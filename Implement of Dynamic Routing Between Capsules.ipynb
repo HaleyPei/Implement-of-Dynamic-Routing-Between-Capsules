{
 "cells": [
  {
   "cell_type": "code",
   "execution_count": 124,
   "metadata": {
    "collapsed": true
   },
   "outputs": [],
   "source": [
    "import torch\n",
    "import torch.nn.functional as F\n",
    "import torch.optim as optim\n",
    "from torch import nn\n",
    "import numpy as np\n",
    "import torchvision\n",
    "from torch.autograd import Variable\n",
    "from torchvision import transforms \n",
    "\n",
    "BATCH_SIZE = 100\n",
    "NUM_EPOCHS = 3\n",
    "NUM_ROUTING_ITERATIONS = 3\n",
    "USE_CUDA = False"
   ]
  },
  {
   "cell_type": "markdown",
   "metadata": {},
   "source": [
    "# 读取mnist数据集"
   ]
  },
  {
   "cell_type": "code",
   "execution_count": 16,
   "metadata": {
    "collapsed": true
   },
   "outputs": [],
   "source": [
    "class Mnist:\n",
    "    def __init__(self, batch_size):\n",
    "        dataset_transform = transforms.Compose([\n",
    "                       transforms.ToTensor(),\n",
    "                       transforms.Normalize((0.1307,), (0.3081,))\n",
    "                   ])\n",
    "\n",
    "        train_dataset = torchvision.datasets.MNIST('./data', train=True, download=True, transform=dataset_transform)\n",
    "        test_dataset = torchvision.datasets.MNIST('./data', train=False, download=True, transform=dataset_transform)\n",
    "        \n",
    "        self.train_loader  = torch.utils.data.DataLoader(train_dataset, batch_size=batch_size, shuffle=True)\n",
    "        self.test_loader = torch.utils.data.DataLoader(test_dataset, batch_size=batch_size, shuffle=True)        "
   ]
  },
  {
   "cell_type": "markdown",
   "metadata": {},
   "source": [
    "# Model"
   ]
  },
  {
   "cell_type": "code",
   "execution_count": 17,
   "metadata": {
    "collapsed": true
   },
   "outputs": [],
   "source": [
    "def squash(v):\n",
    "    epsilon = 0.00000001\n",
    "    vector_norm = (v ** 2).sum(-1,keepdim = True) + epsilon\n",
    "    output = vector_norm * v/((1. + vector_norm) * torch.sqrt(vector_norm))\n",
    "    return output"
   ]
  },
  {
   "cell_type": "markdown",
   "metadata": {},
   "source": [
    "## Convlayer"
   ]
  },
  {
   "cell_type": "code",
   "execution_count": 18,
   "metadata": {
    "collapsed": true
   },
   "outputs": [],
   "source": [
    "#第一层，使用普通卷积得到基础特征\n",
    "#(batch,28,28,1)\n",
    "class Convlayer(nn.Module):\n",
    "    def __init__(self,in_channels = 1,out_channels = 256,kernel_size = 9):\n",
    "        super(Convlayer, self).__init__()\n",
    "        self.conv = nn.Conv2d(in_channels,\n",
    "                              out_channels,\n",
    "                              kernel_size=kernel_size,\n",
    "                              stride = 1)\n",
    "    def forward(self,x):\n",
    "        #(batch_size,20,20,256)\n",
    "        return F.relu(self.conv(x))"
   ]
  },
  {
   "cell_type": "markdown",
   "metadata": {},
   "source": [
    "## PrimaryCapslayer"
   ]
  },
  {
   "cell_type": "code",
   "execution_count": 19,
   "metadata": {
    "collapsed": true
   },
   "outputs": [],
   "source": [
    "class PrimaryCapslayer(nn.Module):\n",
    "    def __init__(self,num_capsules=8, in_channels=256, out_channels=32, kernel_size=9):\n",
    "        super(PrimaryCapslayer,self).__init__()\n",
    "        self.capsules = nn.ModuleList([nn.Conv2d(in_channels = in_channels,out_channels = out_channels,kernel_size = kernel_size,stride = 2,padding=0)\n",
    "                                      for _ in range(num_capsules)])\n",
    "\n",
    "    def forward(self,x):\n",
    "        u = [capsule(x).view(x.size(0),-1,1) for capsule in self.capsules]\n",
    "        #u:(batch_size,8,6,6,32)\n",
    "        u = torch.cat(u,dim=-1)\n",
    "        #u:(batch_size,1152,8)\n",
    "        return squash(u)"
   ]
  },
  {
   "cell_type": "markdown",
   "metadata": {},
   "source": [
    "## DigitCaps and Dynamic routing"
   ]
  },
  {
   "cell_type": "code",
   "execution_count": 112,
   "metadata": {
    "collapsed": true
   },
   "outputs": [],
   "source": [
    "class DigitCaps(nn.Module):\n",
    "    def __init__(self,num_capsules = 10,num_routes = 32*6*6,in_channels = 8,out_channels = 16):\n",
    "        super(DigitCaps,self).__init__()\n",
    "        self.in_channels = in_channels\n",
    "        self.out_channels = out_channels\n",
    "        self.num_capsules = num_capsules\n",
    "        self.num_routes = num_routes\n",
    "        \n",
    "        self.W = nn.Parameter(torch.randn(num_routes,num_capsules,out_channels,in_channels))\n",
    "    \n",
    "    def forward(self,x):\n",
    "        u = x.unsqueeze(3)\n",
    "        u = u.unsqueeze(2)\n",
    "        #print(\"u.shape:\",u.shape)\n",
    "        #x:(batch_size,1152,1,8,1)\n",
    "        #W:(1152,10,16,8)\n",
    "        #W*x = (batch_size,1152,10,16,1)\n",
    "        #W = self.W.unsqueeze(0)\n",
    "        #print(\"w.shape\",self.W.shape)\n",
    "        u_hat = torch.matmul(self.W,u)\n",
    "        #u_hat(batch_size, 1152, 10, 16, 1)\n",
    "        u_hat = u_hat.squeeze(-1)\n",
    "        #print(\"u_hat.shape\",u_hat.shape)\n",
    "        u_hat=u_hat.permute(0,2,1,3)\n",
    "        \n",
    "        b_ij = torch.zeros(u_hat.size(0),self.num_capsules,1,self.num_routes)\n",
    "        if USE_CUDA:\n",
    "            b_ij = b_ij.cuda()\n",
    "            \n",
    "        num_iterations = NUM_ROUTING_ITERATIONS\n",
    "        for iteration in range(num_iterations):\n",
    "            #print(b_ij.shape)\n",
    "            c_ij = F.softmax(b_ij,-1)\n",
    "            #print(\"u_hat.shape\",u_hat.shape)\n",
    "            #print(\"c_ij.shape:\",c_ij.shape)\n",
    "            s_j = torch.matmul(c_ij,u_hat)\n",
    "            #print(\"s_j:\",s_j.shape)\n",
    "            v_j = squash(s_j)\n",
    "            if iteration < num_iterations -1:\n",
    "                a_ij = torch.matmul(v_j,u_hat.permute(0,1,3,2))\n",
    "                b_ij = b_ij + a_ij\n",
    "        v_j = v_j.permute(0,1,3,2).squeeze(-1)\n",
    "        #v_j :(batch,10,16)\n",
    "        return v_j"
   ]
  },
  {
   "cell_type": "markdown",
   "metadata": {},
   "source": [
    "## Decoder"
   ]
  },
  {
   "cell_type": "code",
   "execution_count": 113,
   "metadata": {
    "collapsed": true
   },
   "outputs": [],
   "source": [
    "class Decoder(nn.Module):\n",
    "    def __init__(self):\n",
    "        super(Decoder,self).__init__()\n",
    "        self.reconstraction_layers = nn.Sequential(\n",
    "            nn.Linear(16 * 10, 512),\n",
    "            nn.ReLU(inplace=True),\n",
    "            nn.Linear(512, 1024),\n",
    "            nn.ReLU(inplace=True),\n",
    "            nn.Linear(1024, 784),\n",
    "            nn.Sigmoid()\n",
    "        )\n",
    "    def forward(self,x,data):\n",
    "        #x:(batch_size,10,16)\n",
    "        classes = torch.sqrt((x**2).sum(2))\n",
    "        classes = F.softmax(classes)\n",
    "        #classes(batch_size,10)\n",
    "        _,max_length_indices = classes.max(dim = 1)\n",
    "        masked = Variable(torch.sparse.torch.eye(10))\n",
    "        if USE_CUDA:\n",
    "            masked = masked.cuda()\n",
    "        #print(max_length_indices.shape)\n",
    "        masked = masked.index_select(dim = 0,index=max_length_indices.data)\n",
    "        \n",
    "        masked = masked.unsqueeze(2)\n",
    "        #print(masked.shape)\n",
    "        #masked(100,10,1)\n",
    "        reconstractions = self.reconstraction_layers((masked*x).view(x.size(0), -1))\n",
    "        reconstractions = reconstractions.view(-1, 1, 28, 28)\n",
    "        \n",
    "        return reconstractions,masked"
   ]
  },
  {
   "cell_type": "markdown",
   "metadata": {},
   "source": [
    "## CapsNet"
   ]
  },
  {
   "cell_type": "code",
   "execution_count": 119,
   "metadata": {
    "collapsed": true
   },
   "outputs": [],
   "source": [
    "class CapsNet(nn.Module):\n",
    "    def __init__(self):\n",
    "        super(CapsNet,self).__init__()\n",
    "        self.conv_layer = Convlayer()\n",
    "        self.primarycaps_layer = PrimaryCapslayer()\n",
    "        self.DigitCaps_layer = DigitCaps()\n",
    "        self.decoder = Decoder()\n",
    "        self.mse_loss = nn.MSELoss()\n",
    "        \n",
    "    def forward(self,data):\n",
    "        data = self.conv_layer(data)\n",
    "        data = self.primarycaps_layer(data)\n",
    "        output = self.DigitCaps_layer(data)\n",
    "        reconstractions,masked = self.decoder(output,data)\n",
    "        return output ,reconstractions,masked\n",
    "    \n",
    "    def loss(self, data, x, target,reconstractions):\n",
    "        loss1 = self.margin_loss(x, target)\n",
    "        loss2 = self.reconstruction_loss(data,reconstractions)\n",
    "        return  loss1,loss2\n",
    "    \n",
    "    def margin_loss(self, x, labels, size_average=True):\n",
    "        batch_size = x.size(0)\n",
    "\n",
    "        v_c = torch.sqrt((x**2).sum(dim=2))\n",
    "        #print(\"vc\",v_c.shape)\n",
    "        #(batch_size,10)\n",
    "        left = F.relu(0.9 - v_c)**2\n",
    "        right = F.relu(v_c - 0.1)**2\n",
    "        labels = torch.sparse.torch.eye(10).index_select(dim=0, index=labels.data.cpu())\n",
    "        #print(labels.shape)\n",
    "        if USE_CUDA:\n",
    "            labels = labels.cuda()\n",
    "        loss = labels * left + 0.5 * (1.0 - labels) * right\n",
    "        loss = loss.sum(dim=1).mean()\n",
    "        return loss\n",
    "    \n",
    "    def reconstruction_loss(self, data, reconstructions):\n",
    "        #data(batch_size,1,28,28)\n",
    "        #reconstractions(batch_size,1,28,28)\n",
    "        loss = ((reconstructions.view(reconstructions.size(0), -1) - data.view(reconstructions.size(0), -1))**2).sum()/batch_size\n",
    "        return loss * 0.0005"
   ]
  },
  {
   "cell_type": "markdown",
   "metadata": {},
   "source": [
    "# Train"
   ]
  },
  {
   "cell_type": "code",
   "execution_count": 120,
   "metadata": {
    "collapsed": true
   },
   "outputs": [],
   "source": [
    "capsule_net = CapsNet()\n",
    "if USE_CUDA:\n",
    "    capsule_net = capsule_net.cuda()\n",
    "optimizer = optim.Adam(capsule_net.parameters())"
   ]
  },
  {
   "cell_type": "code",
   "execution_count": 121,
   "metadata": {
    "scrolled": false
   },
   "outputs": [
    {
     "name": "stdout",
     "output_type": "stream",
     "text": [
      "batch_size: 100\n"
     ]
    },
    {
     "name": "stderr",
     "output_type": "stream",
     "text": [
      "/home/haleypei/anaconda3/lib/python3.6/site-packages/ipykernel_launcher.py:15: UserWarning: Implicit dimension choice for softmax has been deprecated. Change the call to include dim=X as an argument.\n",
      "  from ipykernel import kernelapp as app\n"
     ]
    },
    {
     "name": "stdout",
     "output_type": "stream",
     "text": [
      "Train Epoc:0 [0/60000 (0%)]\tLoss1:0.804218 \tLoss2: 0.494283 \ttrain accuracy:0.1100\n",
      "Train Epoc:0 [1000/60000 (2%)]\tLoss1:0.258713 \tLoss2: 0.408298 \ttrain accuracy:0.7600\n",
      "Train Epoc:0 [2000/60000 (3%)]\tLoss1:0.179331 \tLoss2: 0.316093 \ttrain accuracy:0.8700\n",
      "Train Epoc:0 [3000/60000 (5%)]\tLoss1:0.150295 \tLoss2: 0.331899 \ttrain accuracy:0.8900\n",
      "Train Epoc:0 [4000/60000 (7%)]\tLoss1:0.104187 \tLoss2: 0.303006 \ttrain accuracy:0.8900\n",
      "Train Epoc:0 [5000/60000 (8%)]\tLoss1:0.082361 \tLoss2: 0.312958 \ttrain accuracy:0.9900\n",
      "Train Epoc:0 [6000/60000 (10%)]\tLoss1:0.092698 \tLoss2: 0.313303 \ttrain accuracy:0.9200\n",
      "Train Epoc:0 [7000/60000 (12%)]\tLoss1:0.048352 \tLoss2: 0.298465 \ttrain accuracy:0.9700\n",
      "Train Epoc:0 [8000/60000 (13%)]\tLoss1:0.063867 \tLoss2: 0.313722 \ttrain accuracy:0.9400\n",
      "Train Epoc:0 [9000/60000 (15%)]\tLoss1:0.031852 \tLoss2: 0.290149 \ttrain accuracy:1.0000\n",
      "Train Epoc:0 [10000/60000 (17%)]\tLoss1:0.065567 \tLoss2: 0.292407 \ttrain accuracy:0.9100\n",
      "Train Epoc:0 [11000/60000 (18%)]\tLoss1:0.035340 \tLoss2: 0.290778 \ttrain accuracy:0.9600\n",
      "Train Epoc:0 [12000/60000 (20%)]\tLoss1:0.050962 \tLoss2: 0.291867 \ttrain accuracy:0.9600\n",
      "Train Epoc:0 [13000/60000 (22%)]\tLoss1:0.044391 \tLoss2: 0.294890 \ttrain accuracy:0.9400\n",
      "Train Epoc:0 [14000/60000 (23%)]\tLoss1:0.053821 \tLoss2: 0.295541 \ttrain accuracy:0.9200\n",
      "Train Epoc:0 [15000/60000 (25%)]\tLoss1:0.023361 \tLoss2: 0.288607 \ttrain accuracy:0.9800\n",
      "Train Epoc:0 [16000/60000 (27%)]\tLoss1:0.038464 \tLoss2: 0.291847 \ttrain accuracy:0.9700\n",
      "Train Epoc:0 [17000/60000 (28%)]\tLoss1:0.027525 \tLoss2: 0.292510 \ttrain accuracy:0.9900\n",
      "Train Epoc:0 [18000/60000 (30%)]\tLoss1:0.021506 \tLoss2: 0.289496 \ttrain accuracy:0.9900\n",
      "Train Epoc:0 [19000/60000 (32%)]\tLoss1:0.039125 \tLoss2: 0.278503 \ttrain accuracy:0.9600\n",
      "Train Epoc:0 [20000/60000 (33%)]\tLoss1:0.016008 \tLoss2: 0.283596 \ttrain accuracy:0.9900\n",
      "Train Epoc:0 [21000/60000 (35%)]\tLoss1:0.025773 \tLoss2: 0.278460 \ttrain accuracy:0.9900\n",
      "Train Epoc:0 [22000/60000 (37%)]\tLoss1:0.020631 \tLoss2: 0.274988 \ttrain accuracy:1.0000\n",
      "Train Epoc:0 [23000/60000 (38%)]\tLoss1:0.030827 \tLoss2: 0.270756 \ttrain accuracy:0.9600\n",
      "Train Epoc:0 [24000/60000 (40%)]\tLoss1:0.030532 \tLoss2: 0.273174 \ttrain accuracy:0.9900\n",
      "Train Epoc:0 [25000/60000 (42%)]\tLoss1:0.019769 \tLoss2: 0.272121 \ttrain accuracy:0.9900\n",
      "Train Epoc:0 [26000/60000 (43%)]\tLoss1:0.026492 \tLoss2: 0.281088 \ttrain accuracy:0.9800\n",
      "Train Epoc:0 [27000/60000 (45%)]\tLoss1:0.011926 \tLoss2: 0.258393 \ttrain accuracy:1.0000\n",
      "Train Epoc:0 [28000/60000 (47%)]\tLoss1:0.026687 \tLoss2: 0.276470 \ttrain accuracy:0.9800\n",
      "Train Epoc:0 [29000/60000 (48%)]\tLoss1:0.012214 \tLoss2: 0.269498 \ttrain accuracy:0.9900\n",
      "Train Epoc:0 [30000/60000 (50%)]\tLoss1:0.008879 \tLoss2: 0.263270 \ttrain accuracy:1.0000\n",
      "Train Epoc:0 [31000/60000 (52%)]\tLoss1:0.022922 \tLoss2: 0.259298 \ttrain accuracy:0.9900\n",
      "Train Epoc:0 [32000/60000 (53%)]\tLoss1:0.011223 \tLoss2: 0.263999 \ttrain accuracy:0.9900\n",
      "Train Epoc:0 [33000/60000 (55%)]\tLoss1:0.013748 \tLoss2: 0.262916 \ttrain accuracy:0.9900\n",
      "Train Epoc:0 [34000/60000 (57%)]\tLoss1:0.019166 \tLoss2: 0.270019 \ttrain accuracy:0.9900\n",
      "Train Epoc:0 [35000/60000 (58%)]\tLoss1:0.015843 \tLoss2: 0.266999 \ttrain accuracy:0.9800\n",
      "Train Epoc:0 [36000/60000 (60%)]\tLoss1:0.023941 \tLoss2: 0.260111 \ttrain accuracy:0.9800\n",
      "Train Epoc:0 [37000/60000 (62%)]\tLoss1:0.026386 \tLoss2: 0.254035 \ttrain accuracy:0.9700\n",
      "Train Epoc:0 [38000/60000 (63%)]\tLoss1:0.007898 \tLoss2: 0.257672 \ttrain accuracy:1.0000\n",
      "Train Epoc:0 [39000/60000 (65%)]\tLoss1:0.013350 \tLoss2: 0.254101 \ttrain accuracy:0.9900\n",
      "Train Epoc:0 [40000/60000 (67%)]\tLoss1:0.017272 \tLoss2: 0.256604 \ttrain accuracy:0.9900\n",
      "Train Epoc:0 [41000/60000 (68%)]\tLoss1:0.037154 \tLoss2: 0.268812 \ttrain accuracy:0.9600\n",
      "Train Epoc:0 [42000/60000 (70%)]\tLoss1:0.011567 \tLoss2: 0.252868 \ttrain accuracy:0.9900\n",
      "Train Epoc:0 [43000/60000 (72%)]\tLoss1:0.014909 \tLoss2: 0.259189 \ttrain accuracy:1.0000\n",
      "Train Epoc:0 [44000/60000 (73%)]\tLoss1:0.023201 \tLoss2: 0.258058 \ttrain accuracy:0.9800\n",
      "Train Epoc:0 [45000/60000 (75%)]\tLoss1:0.005068 \tLoss2: 0.258293 \ttrain accuracy:1.0000\n",
      "Train Epoc:0 [46000/60000 (77%)]\tLoss1:0.018424 \tLoss2: 0.251892 \ttrain accuracy:0.9900\n",
      "Train Epoc:0 [47000/60000 (78%)]\tLoss1:0.020142 \tLoss2: 0.260055 \ttrain accuracy:0.9900\n",
      "Train Epoc:0 [48000/60000 (80%)]\tLoss1:0.009793 \tLoss2: 0.255994 \ttrain accuracy:0.9900\n",
      "Train Epoc:0 [49000/60000 (82%)]\tLoss1:0.020553 \tLoss2: 0.252889 \ttrain accuracy:0.9800\n",
      "Train Epoc:0 [50000/60000 (83%)]\tLoss1:0.021082 \tLoss2: 0.242037 \ttrain accuracy:0.9800\n",
      "Train Epoc:0 [51000/60000 (85%)]\tLoss1:0.010054 \tLoss2: 0.253761 \ttrain accuracy:0.9900\n",
      "Train Epoc:0 [52000/60000 (87%)]\tLoss1:0.012681 \tLoss2: 0.246875 \ttrain accuracy:0.9900\n",
      "Train Epoc:0 [53000/60000 (88%)]\tLoss1:0.034276 \tLoss2: 0.262139 \ttrain accuracy:0.9600\n",
      "Train Epoc:0 [54000/60000 (90%)]\tLoss1:0.011158 \tLoss2: 0.248664 \ttrain accuracy:1.0000\n",
      "Train Epoc:0 [55000/60000 (92%)]\tLoss1:0.030801 \tLoss2: 0.257692 \ttrain accuracy:0.9600\n",
      "Train Epoc:0 [56000/60000 (93%)]\tLoss1:0.010763 \tLoss2: 0.249554 \ttrain accuracy:0.9900\n",
      "Train Epoc:0 [57000/60000 (95%)]\tLoss1:0.016855 \tLoss2: 0.250173 \ttrain accuracy:0.9800\n",
      "Train Epoc:0 [58000/60000 (97%)]\tLoss1:0.011538 \tLoss2: 0.251977 \ttrain accuracy:0.9900\n",
      "Train Epoc:0 [59000/60000 (98%)]\tLoss1:0.017183 \tLoss2: 0.249750 \ttrain accuracy:0.9700\n",
      "test accuracy: 1.0\n",
      "0.26889438897371293\n",
      "Train Epoc:1 [0/60000 (0%)]\tLoss1:0.014482 \tLoss2: 0.255146 \ttrain accuracy:0.9900\n",
      "Train Epoc:1 [1000/60000 (2%)]\tLoss1:0.006526 \tLoss2: 0.249280 \ttrain accuracy:1.0000\n",
      "Train Epoc:1 [2000/60000 (3%)]\tLoss1:0.011755 \tLoss2: 0.250858 \ttrain accuracy:0.9900\n",
      "Train Epoc:1 [3000/60000 (5%)]\tLoss1:0.011226 \tLoss2: 0.252923 \ttrain accuracy:1.0000\n",
      "Train Epoc:1 [4000/60000 (7%)]\tLoss1:0.021882 \tLoss2: 0.255110 \ttrain accuracy:0.9800\n",
      "Train Epoc:1 [5000/60000 (8%)]\tLoss1:0.014303 \tLoss2: 0.245188 \ttrain accuracy:0.9900\n",
      "Train Epoc:1 [6000/60000 (10%)]\tLoss1:0.005861 \tLoss2: 0.249326 \ttrain accuracy:1.0000\n",
      "Train Epoc:1 [7000/60000 (12%)]\tLoss1:0.011228 \tLoss2: 0.254581 \ttrain accuracy:0.9900\n",
      "Train Epoc:1 [8000/60000 (13%)]\tLoss1:0.007176 \tLoss2: 0.254852 \ttrain accuracy:0.9900\n",
      "Train Epoc:1 [9000/60000 (15%)]\tLoss1:0.006089 \tLoss2: 0.262549 \ttrain accuracy:1.0000\n",
      "Train Epoc:1 [10000/60000 (17%)]\tLoss1:0.013619 \tLoss2: 0.241635 \ttrain accuracy:0.9800\n",
      "Train Epoc:1 [11000/60000 (18%)]\tLoss1:0.005935 \tLoss2: 0.245018 \ttrain accuracy:0.9900\n",
      "Train Epoc:1 [12000/60000 (20%)]\tLoss1:0.010840 \tLoss2: 0.250301 \ttrain accuracy:0.9900\n",
      "Train Epoc:1 [13000/60000 (22%)]\tLoss1:0.003323 \tLoss2: 0.248616 \ttrain accuracy:1.0000\n",
      "Train Epoc:1 [14000/60000 (23%)]\tLoss1:0.006152 \tLoss2: 0.252618 \ttrain accuracy:0.9900\n",
      "Train Epoc:1 [15000/60000 (25%)]\tLoss1:0.009200 \tLoss2: 0.241787 \ttrain accuracy:1.0000\n",
      "Train Epoc:1 [16000/60000 (27%)]\tLoss1:0.015719 \tLoss2: 0.246831 \ttrain accuracy:1.0000\n",
      "Train Epoc:1 [17000/60000 (28%)]\tLoss1:0.007206 \tLoss2: 0.252872 \ttrain accuracy:1.0000\n",
      "Train Epoc:1 [18000/60000 (30%)]\tLoss1:0.011880 \tLoss2: 0.256968 \ttrain accuracy:0.9900\n",
      "Train Epoc:1 [19000/60000 (32%)]\tLoss1:0.007298 \tLoss2: 0.251514 \ttrain accuracy:1.0000\n",
      "Train Epoc:1 [20000/60000 (33%)]\tLoss1:0.011074 \tLoss2: 0.253953 \ttrain accuracy:1.0000\n",
      "Train Epoc:1 [21000/60000 (35%)]\tLoss1:0.018861 \tLoss2: 0.253709 \ttrain accuracy:0.9800\n",
      "Train Epoc:1 [22000/60000 (37%)]\tLoss1:0.017535 \tLoss2: 0.232467 \ttrain accuracy:0.9800\n",
      "Train Epoc:1 [23000/60000 (38%)]\tLoss1:0.010146 \tLoss2: 0.245504 \ttrain accuracy:1.0000\n",
      "Train Epoc:1 [24000/60000 (40%)]\tLoss1:0.012496 \tLoss2: 0.238812 \ttrain accuracy:0.9800\n",
      "Train Epoc:1 [25000/60000 (42%)]\tLoss1:0.020187 \tLoss2: 0.242751 \ttrain accuracy:0.9600\n",
      "Train Epoc:1 [26000/60000 (43%)]\tLoss1:0.013656 \tLoss2: 0.239983 \ttrain accuracy:0.9800\n",
      "Train Epoc:1 [27000/60000 (45%)]\tLoss1:0.022041 \tLoss2: 0.242409 \ttrain accuracy:0.9800\n",
      "Train Epoc:1 [28000/60000 (47%)]\tLoss1:0.009171 \tLoss2: 0.260247 \ttrain accuracy:1.0000\n",
      "Train Epoc:1 [29000/60000 (48%)]\tLoss1:0.006772 \tLoss2: 0.251525 \ttrain accuracy:1.0000\n",
      "Train Epoc:1 [30000/60000 (50%)]\tLoss1:0.017714 \tLoss2: 0.248692 \ttrain accuracy:0.9700\n",
      "Train Epoc:1 [31000/60000 (52%)]\tLoss1:0.008761 \tLoss2: 0.245180 \ttrain accuracy:1.0000\n",
      "Train Epoc:1 [32000/60000 (53%)]\tLoss1:0.013314 \tLoss2: 0.245180 \ttrain accuracy:0.9900\n",
      "Train Epoc:1 [33000/60000 (55%)]\tLoss1:0.005154 \tLoss2: 0.243627 \ttrain accuracy:1.0000\n"
     ]
    },
    {
     "name": "stdout",
     "output_type": "stream",
     "text": [
      "Train Epoc:1 [34000/60000 (57%)]\tLoss1:0.019103 \tLoss2: 0.238616 \ttrain accuracy:0.9800\n",
      "Train Epoc:1 [35000/60000 (58%)]\tLoss1:0.010566 \tLoss2: 0.246575 \ttrain accuracy:1.0000\n",
      "Train Epoc:1 [36000/60000 (60%)]\tLoss1:0.003144 \tLoss2: 0.250167 \ttrain accuracy:1.0000\n",
      "Train Epoc:1 [37000/60000 (62%)]\tLoss1:0.012458 \tLoss2: 0.244821 \ttrain accuracy:0.9900\n",
      "Train Epoc:1 [38000/60000 (63%)]\tLoss1:0.009910 \tLoss2: 0.244911 \ttrain accuracy:0.9900\n",
      "Train Epoc:1 [39000/60000 (65%)]\tLoss1:0.015046 \tLoss2: 0.233030 \ttrain accuracy:0.9900\n",
      "Train Epoc:1 [40000/60000 (67%)]\tLoss1:0.010226 \tLoss2: 0.239202 \ttrain accuracy:0.9900\n",
      "Train Epoc:1 [41000/60000 (68%)]\tLoss1:0.021918 \tLoss2: 0.242692 \ttrain accuracy:0.9700\n",
      "Train Epoc:1 [42000/60000 (70%)]\tLoss1:0.009420 \tLoss2: 0.239800 \ttrain accuracy:0.9900\n",
      "Train Epoc:1 [43000/60000 (72%)]\tLoss1:0.013459 \tLoss2: 0.246590 \ttrain accuracy:0.9900\n",
      "Train Epoc:1 [44000/60000 (73%)]\tLoss1:0.009029 \tLoss2: 0.243810 \ttrain accuracy:0.9900\n",
      "Train Epoc:1 [45000/60000 (75%)]\tLoss1:0.019724 \tLoss2: 0.244930 \ttrain accuracy:0.9700\n",
      "Train Epoc:1 [46000/60000 (77%)]\tLoss1:0.014534 \tLoss2: 0.250836 \ttrain accuracy:0.9800\n",
      "Train Epoc:1 [47000/60000 (78%)]\tLoss1:0.011414 \tLoss2: 0.239331 \ttrain accuracy:0.9900\n",
      "Train Epoc:1 [48000/60000 (80%)]\tLoss1:0.014496 \tLoss2: 0.241187 \ttrain accuracy:0.9800\n",
      "Train Epoc:1 [49000/60000 (82%)]\tLoss1:0.011927 \tLoss2: 0.242173 \ttrain accuracy:0.9900\n",
      "Train Epoc:1 [50000/60000 (83%)]\tLoss1:0.005295 \tLoss2: 0.240897 \ttrain accuracy:1.0000\n",
      "Train Epoc:1 [51000/60000 (85%)]\tLoss1:0.013174 \tLoss2: 0.248091 \ttrain accuracy:0.9900\n",
      "Train Epoc:1 [52000/60000 (87%)]\tLoss1:0.006338 \tLoss2: 0.237496 \ttrain accuracy:1.0000\n",
      "Train Epoc:1 [53000/60000 (88%)]\tLoss1:0.011197 \tLoss2: 0.244914 \ttrain accuracy:0.9900\n",
      "Train Epoc:1 [54000/60000 (90%)]\tLoss1:0.016836 \tLoss2: 0.240182 \ttrain accuracy:0.9800\n",
      "Train Epoc:1 [55000/60000 (92%)]\tLoss1:0.008363 \tLoss2: 0.249896 \ttrain accuracy:1.0000\n",
      "Train Epoc:1 [56000/60000 (93%)]\tLoss1:0.006385 \tLoss2: 0.235723 \ttrain accuracy:1.0000\n",
      "Train Epoc:1 [57000/60000 (95%)]\tLoss1:0.005624 \tLoss2: 0.241496 \ttrain accuracy:1.0000\n",
      "Train Epoc:1 [58000/60000 (97%)]\tLoss1:0.011939 \tLoss2: 0.239997 \ttrain accuracy:0.9900\n",
      "Train Epoc:1 [59000/60000 (98%)]\tLoss1:0.017754 \tLoss2: 0.239277 \ttrain accuracy:0.9900\n",
      "test accuracy: 1.0\n",
      "0.25394338876008987\n",
      "Train Epoc:2 [0/60000 (0%)]\tLoss1:0.001756 \tLoss2: 0.235814 \ttrain accuracy:1.0000\n",
      "Train Epoc:2 [1000/60000 (2%)]\tLoss1:0.006817 \tLoss2: 0.240245 \ttrain accuracy:1.0000\n",
      "Train Epoc:2 [2000/60000 (3%)]\tLoss1:0.003682 \tLoss2: 0.240850 \ttrain accuracy:1.0000\n",
      "Train Epoc:2 [3000/60000 (5%)]\tLoss1:0.010210 \tLoss2: 0.245166 \ttrain accuracy:0.9900\n",
      "Train Epoc:2 [4000/60000 (7%)]\tLoss1:0.011137 \tLoss2: 0.238410 \ttrain accuracy:0.9900\n",
      "Train Epoc:2 [5000/60000 (8%)]\tLoss1:0.006025 \tLoss2: 0.237527 \ttrain accuracy:1.0000\n",
      "Train Epoc:2 [6000/60000 (10%)]\tLoss1:0.005111 \tLoss2: 0.245323 \ttrain accuracy:1.0000\n",
      "Train Epoc:2 [7000/60000 (12%)]\tLoss1:0.011409 \tLoss2: 0.233143 \ttrain accuracy:0.9900\n",
      "Train Epoc:2 [8000/60000 (13%)]\tLoss1:0.001946 \tLoss2: 0.250140 \ttrain accuracy:1.0000\n",
      "Train Epoc:2 [9000/60000 (15%)]\tLoss1:0.001755 \tLoss2: 0.240612 \ttrain accuracy:1.0000\n",
      "Train Epoc:2 [10000/60000 (17%)]\tLoss1:0.004502 \tLoss2: 0.233414 \ttrain accuracy:1.0000\n",
      "Train Epoc:2 [11000/60000 (18%)]\tLoss1:0.007316 \tLoss2: 0.231994 \ttrain accuracy:0.9900\n",
      "Train Epoc:2 [12000/60000 (20%)]\tLoss1:0.005796 \tLoss2: 0.232210 \ttrain accuracy:1.0000\n",
      "Train Epoc:2 [13000/60000 (22%)]\tLoss1:0.010799 \tLoss2: 0.235175 \ttrain accuracy:0.9900\n",
      "Train Epoc:2 [14000/60000 (23%)]\tLoss1:0.002112 \tLoss2: 0.247804 \ttrain accuracy:1.0000\n",
      "Train Epoc:2 [15000/60000 (25%)]\tLoss1:0.012741 \tLoss2: 0.250801 \ttrain accuracy:0.9900\n",
      "Train Epoc:2 [16000/60000 (27%)]\tLoss1:0.007910 \tLoss2: 0.246194 \ttrain accuracy:1.0000\n",
      "Train Epoc:2 [17000/60000 (28%)]\tLoss1:0.002379 \tLoss2: 0.249095 \ttrain accuracy:1.0000\n",
      "Train Epoc:2 [18000/60000 (30%)]\tLoss1:0.014496 \tLoss2: 0.237813 \ttrain accuracy:1.0000\n",
      "Train Epoc:2 [19000/60000 (32%)]\tLoss1:0.002001 \tLoss2: 0.232218 \ttrain accuracy:1.0000\n",
      "Train Epoc:2 [20000/60000 (33%)]\tLoss1:0.003339 \tLoss2: 0.238342 \ttrain accuracy:1.0000\n",
      "Train Epoc:2 [21000/60000 (35%)]\tLoss1:0.002920 \tLoss2: 0.229267 \ttrain accuracy:1.0000\n",
      "Train Epoc:2 [22000/60000 (37%)]\tLoss1:0.008710 \tLoss2: 0.238259 \ttrain accuracy:0.9900\n",
      "Train Epoc:2 [23000/60000 (38%)]\tLoss1:0.014125 \tLoss2: 0.240070 \ttrain accuracy:0.9900\n",
      "Train Epoc:2 [24000/60000 (40%)]\tLoss1:0.009932 \tLoss2: 0.236070 \ttrain accuracy:0.9900\n",
      "Train Epoc:2 [25000/60000 (42%)]\tLoss1:0.011384 \tLoss2: 0.239803 \ttrain accuracy:1.0000\n",
      "Train Epoc:2 [26000/60000 (43%)]\tLoss1:0.005305 \tLoss2: 0.235541 \ttrain accuracy:0.9900\n",
      "Train Epoc:2 [27000/60000 (45%)]\tLoss1:0.003970 \tLoss2: 0.244287 \ttrain accuracy:1.0000\n",
      "Train Epoc:2 [28000/60000 (47%)]\tLoss1:0.005306 \tLoss2: 0.233161 \ttrain accuracy:1.0000\n",
      "Train Epoc:2 [29000/60000 (48%)]\tLoss1:0.007840 \tLoss2: 0.243664 \ttrain accuracy:0.9900\n",
      "Train Epoc:2 [30000/60000 (50%)]\tLoss1:0.007015 \tLoss2: 0.233781 \ttrain accuracy:1.0000\n",
      "Train Epoc:2 [31000/60000 (52%)]\tLoss1:0.005944 \tLoss2: 0.236851 \ttrain accuracy:1.0000\n",
      "Train Epoc:2 [32000/60000 (53%)]\tLoss1:0.005681 \tLoss2: 0.245069 \ttrain accuracy:1.0000\n",
      "Train Epoc:2 [33000/60000 (55%)]\tLoss1:0.004515 \tLoss2: 0.240644 \ttrain accuracy:1.0000\n",
      "Train Epoc:2 [34000/60000 (57%)]\tLoss1:0.001885 \tLoss2: 0.238512 \ttrain accuracy:1.0000\n",
      "Train Epoc:2 [35000/60000 (58%)]\tLoss1:0.006035 \tLoss2: 0.238443 \ttrain accuracy:1.0000\n",
      "Train Epoc:2 [36000/60000 (60%)]\tLoss1:0.012542 \tLoss2: 0.244585 \ttrain accuracy:0.9900\n",
      "Train Epoc:2 [37000/60000 (62%)]\tLoss1:0.001663 \tLoss2: 0.237429 \ttrain accuracy:1.0000\n",
      "Train Epoc:2 [38000/60000 (63%)]\tLoss1:0.004843 \tLoss2: 0.230799 \ttrain accuracy:1.0000\n",
      "Train Epoc:2 [39000/60000 (65%)]\tLoss1:0.008576 \tLoss2: 0.242748 \ttrain accuracy:0.9900\n",
      "Train Epoc:2 [40000/60000 (67%)]\tLoss1:0.006926 \tLoss2: 0.235201 \ttrain accuracy:1.0000\n",
      "Train Epoc:2 [41000/60000 (68%)]\tLoss1:0.011655 \tLoss2: 0.225273 \ttrain accuracy:0.9700\n",
      "Train Epoc:2 [42000/60000 (70%)]\tLoss1:0.011083 \tLoss2: 0.234033 \ttrain accuracy:0.9800\n",
      "Train Epoc:2 [43000/60000 (72%)]\tLoss1:0.016071 \tLoss2: 0.239977 \ttrain accuracy:0.9800\n",
      "Train Epoc:2 [44000/60000 (73%)]\tLoss1:0.004686 \tLoss2: 0.240647 \ttrain accuracy:0.9900\n",
      "Train Epoc:2 [45000/60000 (75%)]\tLoss1:0.013332 \tLoss2: 0.244500 \ttrain accuracy:0.9900\n",
      "Train Epoc:2 [46000/60000 (77%)]\tLoss1:0.011339 \tLoss2: 0.237490 \ttrain accuracy:0.9800\n",
      "Train Epoc:2 [47000/60000 (78%)]\tLoss1:0.007321 \tLoss2: 0.230127 \ttrain accuracy:0.9900\n",
      "Train Epoc:2 [48000/60000 (80%)]\tLoss1:0.003178 \tLoss2: 0.235462 \ttrain accuracy:1.0000\n",
      "Train Epoc:2 [49000/60000 (82%)]\tLoss1:0.004896 \tLoss2: 0.238998 \ttrain accuracy:1.0000\n",
      "Train Epoc:2 [50000/60000 (83%)]\tLoss1:0.006241 \tLoss2: 0.227879 \ttrain accuracy:0.9900\n",
      "Train Epoc:2 [51000/60000 (85%)]\tLoss1:0.004924 \tLoss2: 0.236633 \ttrain accuracy:1.0000\n",
      "Train Epoc:2 [52000/60000 (87%)]\tLoss1:0.005037 \tLoss2: 0.233855 \ttrain accuracy:1.0000\n",
      "Train Epoc:2 [53000/60000 (88%)]\tLoss1:0.008686 \tLoss2: 0.240740 \ttrain accuracy:0.9900\n",
      "Train Epoc:2 [54000/60000 (90%)]\tLoss1:0.014735 \tLoss2: 0.236520 \ttrain accuracy:0.9800\n",
      "Train Epoc:2 [55000/60000 (92%)]\tLoss1:0.004297 \tLoss2: 0.239354 \ttrain accuracy:1.0000\n",
      "Train Epoc:2 [56000/60000 (93%)]\tLoss1:0.007828 \tLoss2: 0.245242 \ttrain accuracy:0.9900\n",
      "Train Epoc:2 [57000/60000 (95%)]\tLoss1:0.009718 \tLoss2: 0.234610 \ttrain accuracy:1.0000\n",
      "Train Epoc:2 [58000/60000 (97%)]\tLoss1:0.003734 \tLoss2: 0.229218 \ttrain accuracy:1.0000\n",
      "Train Epoc:2 [59000/60000 (98%)]\tLoss1:0.002728 \tLoss2: 0.245650 \ttrain accuracy:1.0000\n",
      "test accuracy: 0.98\n",
      "0.24656420901417733\n"
     ]
    }
   ],
   "source": [
    "batch_size = BATCH_SIZE\n",
    "mnist = Mnist(batch_size)\n",
    "print(\"batch_size:\",batch_size)\n",
    "n_epochs = NUM_EPOCHS\n",
    "\n",
    "for epoch in range(n_epochs):\n",
    "    capsule_net.train()\n",
    "    train_loss = 0\n",
    "    for batch_id, (data,target) in enumerate(mnist.train_loader):\n",
    "        if USE_CUDA:\n",
    "            data,target = data.cuda(),target.cuda()\n",
    "            \n",
    "        optimizer.zero_grad()\n",
    "        output,reconstractions,masked = capsule_net(data)\n",
    "        loss1,loss2 = capsule_net.loss(data,output,target,reconstractions)\n",
    "        \n",
    "        loss = loss1 + loss2\n",
    "        loss.backward()\n",
    "        optimizer.step()\n",
    "        \n",
    "        train_loss += loss.item()\n",
    "        if batch_id % 10 == 0:\n",
    "            output = torch.sqrt((output**2).sum(dim=2, keepdim=True))\n",
    "            output = output.squeeze(-1)\n",
    "#             print(np.argmax(output.cpu().detach().numpy(),1))\n",
    "#             print(target.cpu().detach())\n",
    "            acc = sum(np.argmax(output.cpu().detach().numpy(),1) == target.data.cpu().numpy())/float(batch_size)\n",
    "            print(\"Train Epoc:{} [{}/{} ({:.0f}%)]\\tLoss1:{:.6f} \\tLoss2: {:.6f} \\ttrain accuracy:{:.4f}\".format(\n",
    "            epoch,batch_id * batch_size,len(mnist.train_loader.dataset),100. * batch_id / len(mnist.train_loader),loss1.item(),loss2.item(),acc))\n",
    "\n",
    "    capsule_net.eval()\n",
    "    test_loss = 0\n",
    "    for batch_id, (data, target) in enumerate(mnist.test_loader):\n",
    "    #         labels = torch.sparse.torch.eye(10).index_select(dim=0, index=labels.data.cpu())\n",
    "\n",
    "            target = target.long()\n",
    "\n",
    "            data, target = Variable(data), Variable(target)\n",
    "\n",
    "            if USE_CUDA:\n",
    "                data, target = data.cuda(), target.cuda()\n",
    "\n",
    "            output,reconstractions,masked = capsule_net(data)\n",
    "            loss1,loss2 = capsule_net.loss(data,output,target,reconstractions)\n",
    "            loss = loss1 + loss2\n",
    "    #         test_loss += loss.data[0]\n",
    "            test_loss += loss.item()\n",
    "\n",
    "            if batch_id % 100 == 0:\n",
    "                output = torch.sqrt((output**2).sum(dim=2, keepdim=True))\n",
    "                output = output.squeeze(-1)\n",
    "                print(\"test accuracy:\", sum(np.argmax(output.cpu().detach().numpy(),1) == target.data.cpu().numpy())/float(batch_size))\n",
    "\n",
    "    \n",
    "    print(test_loss / len(mnist.test_loader))"
   ]
  },
  {
   "cell_type": "markdown",
   "metadata": {},
   "source": [
    "# 保存训练模型"
   ]
  },
  {
   "cell_type": "code",
   "execution_count": 122,
   "metadata": {
    "collapsed": true
   },
   "outputs": [],
   "source": [
    "torch.save(capsule_net.state_dict(), 'params sqe.pkl')"
   ]
  },
  {
   "cell_type": "code",
   "execution_count": 123,
   "metadata": {},
   "outputs": [
    {
     "name": "stdout",
     "output_type": "stream",
     "text": [
      "CapsNet(\n",
      "  (conv_layer): Convlayer(\n",
      "    (conv): Conv2d(1, 256, kernel_size=(9, 9), stride=(1, 1))\n",
      "  )\n",
      "  (primarycaps_layer): PrimaryCapslayer(\n",
      "    (capsules): ModuleList(\n",
      "      (0): Conv2d(256, 32, kernel_size=(9, 9), stride=(2, 2))\n",
      "      (1): Conv2d(256, 32, kernel_size=(9, 9), stride=(2, 2))\n",
      "      (2): Conv2d(256, 32, kernel_size=(9, 9), stride=(2, 2))\n",
      "      (3): Conv2d(256, 32, kernel_size=(9, 9), stride=(2, 2))\n",
      "      (4): Conv2d(256, 32, kernel_size=(9, 9), stride=(2, 2))\n",
      "      (5): Conv2d(256, 32, kernel_size=(9, 9), stride=(2, 2))\n",
      "      (6): Conv2d(256, 32, kernel_size=(9, 9), stride=(2, 2))\n",
      "      (7): Conv2d(256, 32, kernel_size=(9, 9), stride=(2, 2))\n",
      "    )\n",
      "  )\n",
      "  (DigitCaps_layer): DigitCaps()\n",
      "  (decoder): Decoder(\n",
      "    (reconstraction_layers): Sequential(\n",
      "      (0): Linear(in_features=160, out_features=512, bias=True)\n",
      "      (1): ReLU(inplace)\n",
      "      (2): Linear(in_features=512, out_features=1024, bias=True)\n",
      "      (3): ReLU(inplace)\n",
      "      (4): Linear(in_features=1024, out_features=784, bias=True)\n",
      "      (5): Sigmoid()\n",
      "    )\n",
      "  )\n",
      "  (mse_loss): MSELoss()\n",
      ")\n"
     ]
    }
   ],
   "source": [
    "import os\n",
    "model =  CapsNet()\n",
    "model.load_state_dict(torch.load('params sqe.pkl'))\n",
    "# if USE_CUDA:\n",
    "#     model.cuda()\n",
    "print(model)"
   ]
  },
  {
   "cell_type": "markdown",
   "metadata": {},
   "source": [
    "# 重构效果"
   ]
  },
  {
   "cell_type": "code",
   "execution_count": 126,
   "metadata": {},
   "outputs": [
    {
     "name": "stdout",
     "output_type": "stream",
     "text": [
      "torch.Size([100, 1, 28, 28])\n"
     ]
    }
   ],
   "source": [
    "test_iter = iter(mnist.test_loader)\n",
    "imgs,labels = next(test_iter)\n",
    "print(imgs.shape)"
   ]
  },
  {
   "cell_type": "code",
   "execution_count": 127,
   "metadata": {},
   "outputs": [
    {
     "name": "stdout",
     "output_type": "stream",
     "text": [
      "torch.Size([50, 1, 28, 28]) torch.Size([50])\n"
     ]
    },
    {
     "name": "stderr",
     "output_type": "stream",
     "text": [
      "/home/haleypei/anaconda3/lib/python3.6/site-packages/ipykernel_launcher.py:1: UserWarning: To copy construct from a tensor, it is recommended to use sourceTensor.clone().detach() or sourceTensor.clone().detach().requires_grad_(True), rather than torch.tensor(sourceTensor).\n",
      "  \"\"\"Entry point for launching an IPython kernel.\n",
      "/home/haleypei/anaconda3/lib/python3.6/site-packages/ipykernel_launcher.py:2: UserWarning: To copy construct from a tensor, it is recommended to use sourceTensor.clone().detach() or sourceTensor.clone().detach().requires_grad_(True), rather than torch.tensor(sourceTensor).\n",
      "  \n"
     ]
    }
   ],
   "source": [
    "x_test = torch.tensor(imgs[:50],dtype=torch.float)\n",
    "y_test = torch.tensor(labels[:50],dtype=torch.long)\n",
    "\n",
    "print(x_test.shape, y_test.shape)"
   ]
  },
  {
   "cell_type": "code",
   "execution_count": 128,
   "metadata": {
    "scrolled": false
   },
   "outputs": [
    {
     "name": "stderr",
     "output_type": "stream",
     "text": [
      "/home/haleypei/anaconda3/lib/python3.6/site-packages/ipykernel_launcher.py:15: UserWarning: Implicit dimension choice for softmax has been deprecated. Change the call to include dim=X as an argument.\n",
      "  from ipykernel import kernelapp as app\n"
     ]
    },
    {
     "data": {
      "image/png": "[encoded data removed]",
      "text/plain": [
       "<Figure size 1512x432 with 14 Axes>"
      ]
     },
     "metadata": {},
     "output_type": "display_data"
    }
   ],
   "source": [
    "import matplotlib.pyplot as plt\n",
    "import random\n",
    "import numpy as np\n",
    "import time\n",
    "\n",
    "img_num = 7\n",
    "k = random.randint(0,30)\n",
    "\n",
    "imgs = x_test[k:img_num+k].cpu().numpy()\n",
    "label = y_test[k:img_num+k].cpu().numpy()\n",
    "\n",
    "y_true = torch.sparse.torch.eye(10).index_select(dim=0, index=y_test[k:img_num+k].cpu().data)\n",
    "# y_true = y_true.cuda()\n",
    "out,pred_imgs,masked = model(x_test[k:img_num+k])\n",
    "pred_label = torch.sqrt(torch.sum(out*out, 2))\n",
    "\n",
    "pred_imgs = pred_imgs.cpu().detach().numpy()\n",
    "pred_label = pred_label.cpu().detach().numpy()\n",
    "pred_label = np.argmax(pred_label,1)\n",
    "\n",
    "plt.figure(\"test Image\",figsize=(img_num*3,3*2))\n",
    "for i in range(img_num):\n",
    "    index = i\n",
    "    img = imgs[index]\n",
    "    title = label[index]\n",
    "    img = img.reshape([28, 28])\n",
    "    \n",
    "    plt.subplot(2,img_num,i+1)\n",
    "    plt.imshow(img,cmap=plt.cm.gray)\n",
    "    plt.axis('off') \n",
    "    plt.title(title)\n",
    "    \n",
    "for i in range(img_num):\n",
    "    index = i\n",
    "    img = pred_imgs[index]\n",
    "    plt.subplot(2,img_num,i+img_num+1)\n",
    "    \n",
    "    title = pred_label[index]\n",
    "    img = img.reshape([28, 28])\n",
    "    plt.imshow(img,cmap=plt.cm.gray)\n",
    "    plt.axis('off') \n",
    "    plt.title(title)\n",
    "    \n",
    "filename = 'r1'+str(time.time())+'.jpg'\n",
    "plt.savefig(filename)\n",
    "plt.show()"
   ]
  },
  {
   "cell_type": "code",
   "execution_count": null,
   "metadata": {
    "collapsed": true
   },
   "outputs": [],
   "source": []
  }
 ],
 "metadata": {
  "kernelspec": {
   "display_name": "Python 3",
   "language": "python",
   "name": "python3"
  },
  "language_info": {
   "codemirror_mode": {
    "name": "ipython",
    "version": 3
   },
   "file_extension": ".py",
   "mimetype": "text/x-python",
   "name": "python",
   "nbconvert_exporter": "python",
   "pygments_lexer": "ipython3",
   "version": "3.6.8"
  }
 },
 "nbformat": 4,
 "nbformat_minor": 2
}
